{
 "cells": [
  {
   "cell_type": "code",
   "execution_count": 10,
   "metadata": {},
   "outputs": [
    {
     "data": {
      "image/png": "[encoded data removed]",
      "text/plain": [
       "<Figure size 432x288 with 1 Axes>"
      ]
     },
     "metadata": {},
     "output_type": "display_data"
    }
   ],
   "source": [
    "# Hyper hyper parameter optimization\n",
    "# using stanbdard libraries TPE\n",
    "# based on hyperopt\n",
    "import numpy as np\n",
    "import math\n",
    "import matplotlib.pyplot as plt\n",
    "%matplotlib inline \n",
    "\n",
    "def objective(x):\n",
    "    \"\"\"Objective function to minimize\"\"\"\n",
    "    \n",
    "    # Create the polynomial that is pretty pretty\n",
    "    f = np.poly1d([1, -2, -28, 28, 12, -26, 100]) \n",
    "    g = np.poly1d([1, 6, 4, 8, 16, 32, 64, 0], True)\n",
    "    f = f * g\n",
    "    #\n",
    "    # Inserthere your CV function ti make it more complicated \n",
    "    # e.g., score = cross_val_score(clf, X_train, y_train, cv=5).mean()\n",
    "    #\n",
    "    return f(x)*1e-10\n",
    "\n",
    "    \n",
    "x = np.arange(-0.5,6.5,0.1) # plot it\n",
    "y = objective(x)\n",
    "plt.plot(x,y)\n",
    "plt.show()"
   ]
  },
  {
   "cell_type": "code",
   "execution_count": 4,
   "metadata": {},
   "outputs": [],
   "source": [
    "from hyperopt import hp\n",
    "# Create the domain space\n",
    "space = hp.loguniform('x', 1, math.log(6.0)) # log-uniform\n",
    "#space = hp.uniform('x', -1, 5) #linear uniform\n",
    "\n",
    "from hyperopt import tpe # Use TPE (lookup other methods, see slides, or skikit description)\n",
    "tpe_algo = tpe.suggest\n",
    "\n",
    "from hyperopt import Trials # Create a MCMC sample process\n",
    "tpe_trials = Trials()"
   ]
  },
  {
   "cell_type": "code",
   "execution_count": 13,
   "metadata": {},
   "outputs": [
    {
     "name": "stdout",
     "output_type": "stream",
     "text": [
      "0it [00:00, ?it/s, best loss: ?]\n",
      "{'x': 3.213349279792613}\n"
     ]
    }
   ],
   "source": [
    "from hyperopt import fmin\n",
    "\n",
    "# Run evals with the tpe algorithm\n",
    "tpe_best = fmin(fn=objective, space=space, \n",
    "                algo=tpe_algo, trials=tpe_trials, \n",
    "                max_evals=500) #number of evaluations ---> main CPU \n",
    "\n",
    "print(tpe_best)"
   ]
  },
  {
   "cell_type": "code",
   "execution_count": 4,
   "metadata": {},
   "outputs": [
    {
     "data": {
      "text/plain": [
       "(array([22., 20., 22., 25., 27., 32., 33., 42., 29., 30., 29., 22., 19.,\n",
       "        19., 16., 13., 10., 10.,  7.,  7.,  4.,  6.,  2.,  6.,  2.,  2.,\n",
       "         5.,  1.,  2.,  3.,  1.,  2.,  1.,  2.,  1.,  3.,  1.,  2.,  2.,\n",
       "         1.,  3.,  1.,  1.,  1.,  2.,  1.,  3.,  2.,  1.,  2.]),\n",
       " array([2.71885088, 2.78358746, 2.84832405, 2.91306064, 2.97779722,\n",
       "        3.04253381, 3.1072704 , 3.17200698, 3.23674357, 3.30148016,\n",
       "        3.36621675, 3.43095333, 3.49568992, 3.56042651, 3.62516309,\n",
       "        3.68989968, 3.75463627, 3.81937285, 3.88410944, 3.94884603,\n",
       "        4.01358261, 4.0783192 , 4.14305579, 4.20779238, 4.27252896,\n",
       "        4.33726555, 4.40200214, 4.46673872, 4.53147531, 4.5962119 ,\n",
       "        4.66094848, 4.72568507, 4.79042166, 4.85515825, 4.91989483,\n",
       "        4.98463142, 5.04936801, 5.11410459, 5.17884118, 5.24357777,\n",
       "        5.30831435, 5.37305094, 5.43778753, 5.50252411, 5.5672607 ,\n",
       "        5.63199729, 5.69673388, 5.76147046, 5.82620705, 5.89094364,\n",
       "        5.95568022]),\n",
       " <a list of 50 Patch objects>)"
      ]
     },
     "execution_count": 4,
     "metadata": {},
     "output_type": "execute_result"
    },
    {
     "data": {
      "image/png": "[encoded data removed]",
      "text/plain": [
       "<Figure size 432x288 with 1 Axes>"
      ]
     },
     "metadata": {},
     "output_type": "display_data"
    }
   ],
   "source": [
    "# Press results into a dataframe (if wanted)\n",
    "# tpe_results = pd.DataFrame({'loss': [x['loss'] for x in tpe_trials.results], \n",
    "#                            'iteration': tpe_trials.idxs_vals[0]['x'],\n",
    "#                            'x': tpe_trials.idxs_vals[1]['x']})                          \n",
    "#tpe_results.head\n",
    "\n",
    "#Plot histogram of TPE trials, to see MCMC importance sampling \n",
    "data = tpe_trials.idxs_vals[1]['x']\n",
    "plt.hist(data, 50)"
   ]
  },
  {
   "cell_type": "code",
   "execution_count": null,
   "metadata": {},
   "outputs": [],
   "source": []
  }
 ],
 "metadata": {
  "kernelspec": {
   "display_name": "Python 3",
   "language": "python",
   "name": "python3"
  },
  "language_info": {
   "codemirror_mode": {
    "name": "ipython",
    "version": 3
   },
   "file_extension": ".py",
   "mimetype": "text/x-python",
   "name": "python",
   "nbconvert_exporter": "python",
   "pygments_lexer": "ipython3",
   "version": "3.6.5"
  }
 },
 "nbformat": 4,
 "nbformat_minor": 2
}
