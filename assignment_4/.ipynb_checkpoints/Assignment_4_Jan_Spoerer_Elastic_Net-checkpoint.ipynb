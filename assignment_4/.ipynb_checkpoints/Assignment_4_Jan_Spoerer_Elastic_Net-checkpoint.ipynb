{
 "cells": [
  {
   "cell_type": "markdown",
   "metadata": {},
   "source": [
    "Intuition: https://www.youtube.com/watch?v=1dKRdX9bfIo\n"
   ]
  },
  {
   "cell_type": "markdown",
   "metadata": {},
   "source": [
    "# Imports and global variables"
   ]
  },
  {
   "cell_type": "code",
   "execution_count": 1,
   "metadata": {},
   "outputs": [],
   "source": [
    "import pandas as pd\n",
    "import numpy as np\n",
    "from sklearn.linear_model import ElasticNet\n",
    "from sklearn.datasets import load_breast_cancer\n",
    "from sklearn.model_selection import train_test_split\n",
    "from sklearn.model_selection import GridSearchCV\n",
    "\n",
    "import warnings\n",
    "\n",
    "parameters = {\n",
    "    'l1_ratio': [0.1, 0.2, 0.4, 0.5, 0.6, 0.8, 1],\n",
    "    'normalize': [True, False],\n",
    "    'precompute': [True, False],\n",
    "    'max_iter': [10, 100, 1000, 2500],\n",
    "    'tol': [0.01, 0.001, 0.0001, 0.00005]\n",
    "}"
   ]
  },
  {
   "cell_type": "markdown",
   "metadata": {},
   "source": [
    "Implement Elastic Net regularization, as developed in the lecture. Use either ElasticNetCV (from sklearn), or ElasticNet together with Grid-Search (CV), or augment (from scratch) the LASSO program from the lecture. Test your implementation by analyzing a dataset of your choice, e.g., the cancer database as presented in the lecture."
   ]
  },
  {
   "cell_type": "markdown",
   "metadata": {},
   "source": [
    "# Load data"
   ]
  },
  {
   "cell_type": "code",
   "execution_count": 2,
   "metadata": {},
   "outputs": [],
   "source": [
    "# Load database\n",
    "cancer = load_breast_cancer()\n",
    "\n",
    "# Create data frame\n",
    "cancer_df = pd.DataFrame(cancer.data, columns=cancer.feature_names)\n",
    "\n",
    "# Construct train and test data sets\n",
    "X = cancer.data\n",
    "Y = cancer.target\n",
    "\n",
    "X_train, X_test, y_train, y_test = train_test_split(\n",
    "    X,\n",
    "    Y, \n",
    "    test_size=0.3, \n",
    "    random_state=31,\n",
    "    stratify=Y\n",
    ")"
   ]
  },
  {
   "cell_type": "markdown",
   "metadata": {},
   "source": [
    "# Instantiate ElasticNet with GridSearchCV"
   ]
  },
  {
   "cell_type": "code",
   "execution_count": 3,
   "metadata": {},
   "outputs": [],
   "source": [
    "instance_elastic_net = GridSearchCV(\n",
    "    ElasticNet(),\n",
    "    param_grid=parameters\n",
    ")"
   ]
  },
  {
   "cell_type": "markdown",
   "metadata": {},
   "source": [
    "# Fit and test the elastic net"
   ]
  },
  {
   "cell_type": "code",
   "execution_count": 8,
   "metadata": {},
   "outputs": [
    {
     "name": "stdout",
     "output_type": "stream",
     "text": [
      "In-sample score: 0.6633454464746772\n",
      "Out-of-sample score: 0.6602398339852424\n"
     ]
    }
   ],
   "source": [
    "with warnings.catch_warnings():\n",
    "    warnings.simplefilter(\"ignore\")\n",
    "    instance_elastic_net.fit(X_train, y_train)\n",
    "    print('In-sample score:', instance_elastic_net.score(X_train, y_train))\n",
    "    print('Out-of-sample score:', instance_elastic_net.score(X_test, y_test))"
   ]
  }
 ],
 "metadata": {
  "kernelspec": {
   "display_name": "Python 3",
   "language": "python",
   "name": "python3"
  },
  "language_info": {
   "codemirror_mode": {
    "name": "ipython",
    "version": 3
   },
   "file_extension": ".py",
   "mimetype": "text/x-python",
   "name": "python",
   "nbconvert_exporter": "python",
   "pygments_lexer": "ipython3",
   "version": "3.7.3"
  }
 },
 "nbformat": 4,
 "nbformat_minor": 2
}
